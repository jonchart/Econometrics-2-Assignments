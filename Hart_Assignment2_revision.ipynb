{
  "nbformat": 4,
  "nbformat_minor": 0,
  "metadata": {
    "colab": {
      "name": "Hart_Assignment2.ipynb",
      "provenance": [],
      "collapsed_sections": []
    },
    "kernelspec": {
      "name": "python3",
      "display_name": "Python 3"
    },
    "language_info": {
      "name": "python"
    }
  },
  "cells": [
    {
      "cell_type": "markdown",
      "source": [
        "# **Assignment 2**"
      ],
      "metadata": {
        "id": "b_PQJpGzMNHD"
      }
    },
    {
      "cell_type": "markdown",
      "source": [
        "**Make sure to run this code from top to bottom**"
      ],
      "metadata": {
        "id": "3sXxO19qrCbv"
      }
    },
    {
      "cell_type": "markdown",
      "source": [
        "Import libraries"
      ],
      "metadata": {
        "id": "ldAeH0eBq3-I"
      }
    },
    {
      "cell_type": "code",
      "source": [
        "#import libraries\n",
        "import pandas as pd\n",
        "import numpy as np\n",
        "import matplotlib.pyplot as plt\n",
        "import statsmodels.api as sm\n",
        "import statsmodels.formula.api as smf\n",
        "from sklearn.utils import resample\n",
        "from statistics import stdev"
      ],
      "metadata": {
        "id": "AushRQr7MTq4",
        "colab": {
          "base_uri": "https://localhost:8080/"
        },
        "outputId": "19468ef8-4c0d-48e7-f0a9-e213625195c3"
      },
      "execution_count": 1,
      "outputs": [
        {
          "output_type": "stream",
          "name": "stderr",
          "text": [
            "/usr/local/lib/python3.7/dist-packages/statsmodels/tools/_testing.py:19: FutureWarning: pandas.util.testing is deprecated. Use the functions in the public API at pandas.testing instead.\n",
            "  import pandas.util.testing as tm\n"
          ]
        }
      ]
    },
    {
      "cell_type": "markdown",
      "source": [
        "Download the datasets, then merge for OLS models"
      ],
      "metadata": {
        "id": "dVPFio0hqgsw"
      }
    },
    {
      "cell_type": "code",
      "source": [
        "#download CPI data from Google Drive\n",
        "cpiurl='https://drive.google.com/file/d/1y-niTRT_UnafvHcnyTR2voWkZKkqWlGF/view?usp=sharing'\n",
        "cpi_id=cpiurl.split('/')[-2]\n",
        "dwnld_cpi='https://drive.google.com/uc?id=' + cpi_id\n",
        "cpiraw = pd.read_csv(dwnld_cpi)\n",
        "#take log of CPIAUCSL\n",
        "cpiraw['logCPI'] = np.log(cpiraw['CPIAUCSL'])\n",
        "#use .diff() to get log difference\n",
        "cpiraw['logCPIdiff'] = np.log(cpiraw['CPIAUCSL']).diff(12)\n",
        "cpiraw['inflation_estimation'] = cpiraw['logCPIdiff']*100\n",
        "cpiraw.dropna(subset = ['logCPIdiff', 'inflation_estimation'], inplace=True)\n",
        "#make sure the dataframe is the same length as others, replace index=0 (NaN) with 0\n",
        "#cpiraw['logCPIdiff'] = cpiraw[~np.isnan('logCPIdiff')]\n",
        "#check dataframe, make sure everything looks right\n",
        "#pd.DataFrame.head(cpiraw, n=13)"
      ],
      "metadata": {
        "id": "OXXQ0U-viHsh",
        "colab": {
          "base_uri": "https://localhost:8080/",
          "height": 457
        },
        "outputId": "ce3d489f-76db-4aea-84e1-80759c775181"
      },
      "execution_count": 17,
      "outputs": [
        {
          "output_type": "execute_result",
          "data": {
            "text/html": [
              "\n",
              "  <div id=\"df-1dbbd1f5-3fa2-4a35-b4f0-cbef26de6845\">\n",
              "    <div class=\"colab-df-container\">\n",
              "      <div>\n",
              "<style scoped>\n",
              "    .dataframe tbody tr th:only-of-type {\n",
              "        vertical-align: middle;\n",
              "    }\n",
              "\n",
              "    .dataframe tbody tr th {\n",
              "        vertical-align: top;\n",
              "    }\n",
              "\n",
              "    .dataframe thead th {\n",
              "        text-align: right;\n",
              "    }\n",
              "</style>\n",
              "<table border=\"1\" class=\"dataframe\">\n",
              "  <thead>\n",
              "    <tr style=\"text-align: right;\">\n",
              "      <th></th>\n",
              "      <th>DATE</th>\n",
              "      <th>CPIAUCSL</th>\n",
              "      <th>logCPI</th>\n",
              "      <th>logCPIdiff</th>\n",
              "      <th>inflation_estimation</th>\n",
              "    </tr>\n",
              "  </thead>\n",
              "  <tbody>\n",
              "    <tr>\n",
              "      <th>12</th>\n",
              "      <td>1995-01-01</td>\n",
              "      <td>150.5</td>\n",
              "      <td>5.013963</td>\n",
              "      <td>0.028304</td>\n",
              "      <td>2.830378</td>\n",
              "    </tr>\n",
              "    <tr>\n",
              "      <th>13</th>\n",
              "      <td>1995-02-01</td>\n",
              "      <td>150.9</td>\n",
              "      <td>5.016617</td>\n",
              "      <td>0.028228</td>\n",
              "      <td>2.822768</td>\n",
              "    </tr>\n",
              "    <tr>\n",
              "      <th>14</th>\n",
              "      <td>1995-03-01</td>\n",
              "      <td>151.2</td>\n",
              "      <td>5.018603</td>\n",
              "      <td>0.027491</td>\n",
              "      <td>2.749084</td>\n",
              "    </tr>\n",
              "    <tr>\n",
              "      <th>15</th>\n",
              "      <td>1995-04-01</td>\n",
              "      <td>151.8</td>\n",
              "      <td>5.022564</td>\n",
              "      <td>0.030772</td>\n",
              "      <td>3.077166</td>\n",
              "    </tr>\n",
              "    <tr>\n",
              "      <th>16</th>\n",
              "      <td>1995-05-01</td>\n",
              "      <td>152.1</td>\n",
              "      <td>5.024538</td>\n",
              "      <td>0.030710</td>\n",
              "      <td>3.071002</td>\n",
              "    </tr>\n",
              "    <tr>\n",
              "      <th>17</th>\n",
              "      <td>1995-06-01</td>\n",
              "      <td>152.4</td>\n",
              "      <td>5.026509</td>\n",
              "      <td>0.029972</td>\n",
              "      <td>2.997227</td>\n",
              "    </tr>\n",
              "    <tr>\n",
              "      <th>18</th>\n",
              "      <td>1995-07-01</td>\n",
              "      <td>152.6</td>\n",
              "      <td>5.027820</td>\n",
              "      <td>0.027909</td>\n",
              "      <td>2.790879</td>\n",
              "    </tr>\n",
              "    <tr>\n",
              "      <th>19</th>\n",
              "      <td>1995-08-01</td>\n",
              "      <td>152.9</td>\n",
              "      <td>5.029784</td>\n",
              "      <td>0.025838</td>\n",
              "      <td>2.583781</td>\n",
              "    </tr>\n",
              "    <tr>\n",
              "      <th>20</th>\n",
              "      <td>1995-09-01</td>\n",
              "      <td>153.1</td>\n",
              "      <td>5.031091</td>\n",
              "      <td>0.025134</td>\n",
              "      <td>2.513360</td>\n",
              "    </tr>\n",
              "    <tr>\n",
              "      <th>21</th>\n",
              "      <td>1995-10-01</td>\n",
              "      <td>153.5</td>\n",
              "      <td>5.033701</td>\n",
              "      <td>0.027073</td>\n",
              "      <td>2.707329</td>\n",
              "    </tr>\n",
              "    <tr>\n",
              "      <th>22</th>\n",
              "      <td>1995-11-01</td>\n",
              "      <td>153.7</td>\n",
              "      <td>5.035003</td>\n",
              "      <td>0.025702</td>\n",
              "      <td>2.570158</td>\n",
              "    </tr>\n",
              "    <tr>\n",
              "      <th>23</th>\n",
              "      <td>1995-12-01</td>\n",
              "      <td>153.9</td>\n",
              "      <td>5.036303</td>\n",
              "      <td>0.025001</td>\n",
              "      <td>2.500130</td>\n",
              "    </tr>\n",
              "    <tr>\n",
              "      <th>24</th>\n",
              "      <td>1996-01-01</td>\n",
              "      <td>154.7</td>\n",
              "      <td>5.041488</td>\n",
              "      <td>0.027525</td>\n",
              "      <td>2.752467</td>\n",
              "    </tr>\n",
              "  </tbody>\n",
              "</table>\n",
              "</div>\n",
              "      <button class=\"colab-df-convert\" onclick=\"convertToInteractive('df-1dbbd1f5-3fa2-4a35-b4f0-cbef26de6845')\"\n",
              "              title=\"Convert this dataframe to an interactive table.\"\n",
              "              style=\"display:none;\">\n",
              "        \n",
              "  <svg xmlns=\"http://www.w3.org/2000/svg\" height=\"24px\"viewBox=\"0 0 24 24\"\n",
              "       width=\"24px\">\n",
              "    <path d=\"M0 0h24v24H0V0z\" fill=\"none\"/>\n",
              "    <path d=\"M18.56 5.44l.94 2.06.94-2.06 2.06-.94-2.06-.94-.94-2.06-.94 2.06-2.06.94zm-11 1L8.5 8.5l.94-2.06 2.06-.94-2.06-.94L8.5 2.5l-.94 2.06-2.06.94zm10 10l.94 2.06.94-2.06 2.06-.94-2.06-.94-.94-2.06-.94 2.06-2.06.94z\"/><path d=\"M17.41 7.96l-1.37-1.37c-.4-.4-.92-.59-1.43-.59-.52 0-1.04.2-1.43.59L10.3 9.45l-7.72 7.72c-.78.78-.78 2.05 0 2.83L4 21.41c.39.39.9.59 1.41.59.51 0 1.02-.2 1.41-.59l7.78-7.78 2.81-2.81c.8-.78.8-2.07 0-2.86zM5.41 20L4 18.59l7.72-7.72 1.47 1.35L5.41 20z\"/>\n",
              "  </svg>\n",
              "      </button>\n",
              "      \n",
              "  <style>\n",
              "    .colab-df-container {\n",
              "      display:flex;\n",
              "      flex-wrap:wrap;\n",
              "      gap: 12px;\n",
              "    }\n",
              "\n",
              "    .colab-df-convert {\n",
              "      background-color: #E8F0FE;\n",
              "      border: none;\n",
              "      border-radius: 50%;\n",
              "      cursor: pointer;\n",
              "      display: none;\n",
              "      fill: #1967D2;\n",
              "      height: 32px;\n",
              "      padding: 0 0 0 0;\n",
              "      width: 32px;\n",
              "    }\n",
              "\n",
              "    .colab-df-convert:hover {\n",
              "      background-color: #E2EBFA;\n",
              "      box-shadow: 0px 1px 2px rgba(60, 64, 67, 0.3), 0px 1px 3px 1px rgba(60, 64, 67, 0.15);\n",
              "      fill: #174EA6;\n",
              "    }\n",
              "\n",
              "    [theme=dark] .colab-df-convert {\n",
              "      background-color: #3B4455;\n",
              "      fill: #D2E3FC;\n",
              "    }\n",
              "\n",
              "    [theme=dark] .colab-df-convert:hover {\n",
              "      background-color: #434B5C;\n",
              "      box-shadow: 0px 1px 3px 1px rgba(0, 0, 0, 0.15);\n",
              "      filter: drop-shadow(0px 1px 2px rgba(0, 0, 0, 0.3));\n",
              "      fill: #FFFFFF;\n",
              "    }\n",
              "  </style>\n",
              "\n",
              "      <script>\n",
              "        const buttonEl =\n",
              "          document.querySelector('#df-1dbbd1f5-3fa2-4a35-b4f0-cbef26de6845 button.colab-df-convert');\n",
              "        buttonEl.style.display =\n",
              "          google.colab.kernel.accessAllowed ? 'block' : 'none';\n",
              "\n",
              "        async function convertToInteractive(key) {\n",
              "          const element = document.querySelector('#df-1dbbd1f5-3fa2-4a35-b4f0-cbef26de6845');\n",
              "          const dataTable =\n",
              "            await google.colab.kernel.invokeFunction('convertToInteractive',\n",
              "                                                     [key], {});\n",
              "          if (!dataTable) return;\n",
              "\n",
              "          const docLinkHtml = 'Like what you see? Visit the ' +\n",
              "            '<a target=\"_blank\" href=https://colab.research.google.com/notebooks/data_table.ipynb>data table notebook</a>'\n",
              "            + ' to learn more about interactive tables.';\n",
              "          element.innerHTML = '';\n",
              "          dataTable['output_type'] = 'display_data';\n",
              "          await google.colab.output.renderOutput(dataTable, element);\n",
              "          const docLink = document.createElement('div');\n",
              "          docLink.innerHTML = docLinkHtml;\n",
              "          element.appendChild(docLink);\n",
              "        }\n",
              "      </script>\n",
              "    </div>\n",
              "  </div>\n",
              "  "
            ],
            "text/plain": [
              "          DATE  CPIAUCSL    logCPI  logCPIdiff  inflation_estimation\n",
              "12  1995-01-01     150.5  5.013963    0.028304              2.830378\n",
              "13  1995-02-01     150.9  5.016617    0.028228              2.822768\n",
              "14  1995-03-01     151.2  5.018603    0.027491              2.749084\n",
              "15  1995-04-01     151.8  5.022564    0.030772              3.077166\n",
              "16  1995-05-01     152.1  5.024538    0.030710              3.071002\n",
              "17  1995-06-01     152.4  5.026509    0.029972              2.997227\n",
              "18  1995-07-01     152.6  5.027820    0.027909              2.790879\n",
              "19  1995-08-01     152.9  5.029784    0.025838              2.583781\n",
              "20  1995-09-01     153.1  5.031091    0.025134              2.513360\n",
              "21  1995-10-01     153.5  5.033701    0.027073              2.707329\n",
              "22  1995-11-01     153.7  5.035003    0.025702              2.570158\n",
              "23  1995-12-01     153.9  5.036303    0.025001              2.500130\n",
              "24  1996-01-01     154.7  5.041488    0.027525              2.752467"
            ]
          },
          "metadata": {},
          "execution_count": 17
        }
      ]
    },
    {
      "cell_type": "code",
      "source": [
        "#download Unemployement Rate data from Google Drive\n",
        "unrateurl='https://drive.google.com/file/d/1Q8PALSgfrsZopQ3V_V9cEh6Imp6O2FjW/view?usp=sharing'\n",
        "unrate_id=unrateurl.split('/')[-2]\n",
        "dwnld_unrate='https://drive.google.com/uc?id=' + unrate_id\n",
        "unrateraw = pd.read_csv(dwnld_unrate)\n",
        "#check dataframe, make sure everything looks right\n",
        "#pd.DataFrame.head(unrateraw, n=10)"
      ],
      "metadata": {
        "id": "BzUVTltBJ7-V"
      },
      "execution_count": 18,
      "outputs": []
    },
    {
      "cell_type": "code",
      "source": [
        "#join dataframes to get all of the CPI rows and the Unemployment rate in the\n",
        "#same frame\n",
        "#merge data on similar column, date\n",
        "cpiunrate = pd.merge(cpiraw, unrateraw, on='DATE')\n",
        "#check dataframe, make sure everything looks right\n",
        "#pd.DataFrame.head(cpiunrate, n=10)"
      ],
      "metadata": {
        "id": "7PzMFrPjTaoi",
        "colab": {
          "base_uri": "https://localhost:8080/",
          "height": 363
        },
        "outputId": "071a2704-31d9-487e-f99a-6de5d40a5336"
      },
      "execution_count": 19,
      "outputs": [
        {
          "output_type": "execute_result",
          "data": {
            "text/html": [
              "\n",
              "  <div id=\"df-6be651cd-d97d-4653-a2fa-c18ec2363aa3\">\n",
              "    <div class=\"colab-df-container\">\n",
              "      <div>\n",
              "<style scoped>\n",
              "    .dataframe tbody tr th:only-of-type {\n",
              "        vertical-align: middle;\n",
              "    }\n",
              "\n",
              "    .dataframe tbody tr th {\n",
              "        vertical-align: top;\n",
              "    }\n",
              "\n",
              "    .dataframe thead th {\n",
              "        text-align: right;\n",
              "    }\n",
              "</style>\n",
              "<table border=\"1\" class=\"dataframe\">\n",
              "  <thead>\n",
              "    <tr style=\"text-align: right;\">\n",
              "      <th></th>\n",
              "      <th>DATE</th>\n",
              "      <th>CPIAUCSL</th>\n",
              "      <th>logCPI</th>\n",
              "      <th>logCPIdiff</th>\n",
              "      <th>inflation_estimation</th>\n",
              "      <th>UNRATE</th>\n",
              "    </tr>\n",
              "  </thead>\n",
              "  <tbody>\n",
              "    <tr>\n",
              "      <th>0</th>\n",
              "      <td>1995-01-01</td>\n",
              "      <td>150.5</td>\n",
              "      <td>5.013963</td>\n",
              "      <td>0.028304</td>\n",
              "      <td>2.830378</td>\n",
              "      <td>5.6</td>\n",
              "    </tr>\n",
              "    <tr>\n",
              "      <th>1</th>\n",
              "      <td>1995-02-01</td>\n",
              "      <td>150.9</td>\n",
              "      <td>5.016617</td>\n",
              "      <td>0.028228</td>\n",
              "      <td>2.822768</td>\n",
              "      <td>5.4</td>\n",
              "    </tr>\n",
              "    <tr>\n",
              "      <th>2</th>\n",
              "      <td>1995-03-01</td>\n",
              "      <td>151.2</td>\n",
              "      <td>5.018603</td>\n",
              "      <td>0.027491</td>\n",
              "      <td>2.749084</td>\n",
              "      <td>5.4</td>\n",
              "    </tr>\n",
              "    <tr>\n",
              "      <th>3</th>\n",
              "      <td>1995-04-01</td>\n",
              "      <td>151.8</td>\n",
              "      <td>5.022564</td>\n",
              "      <td>0.030772</td>\n",
              "      <td>3.077166</td>\n",
              "      <td>5.8</td>\n",
              "    </tr>\n",
              "    <tr>\n",
              "      <th>4</th>\n",
              "      <td>1995-05-01</td>\n",
              "      <td>152.1</td>\n",
              "      <td>5.024538</td>\n",
              "      <td>0.030710</td>\n",
              "      <td>3.071002</td>\n",
              "      <td>5.6</td>\n",
              "    </tr>\n",
              "    <tr>\n",
              "      <th>5</th>\n",
              "      <td>1995-06-01</td>\n",
              "      <td>152.4</td>\n",
              "      <td>5.026509</td>\n",
              "      <td>0.029972</td>\n",
              "      <td>2.997227</td>\n",
              "      <td>5.6</td>\n",
              "    </tr>\n",
              "    <tr>\n",
              "      <th>6</th>\n",
              "      <td>1995-07-01</td>\n",
              "      <td>152.6</td>\n",
              "      <td>5.027820</td>\n",
              "      <td>0.027909</td>\n",
              "      <td>2.790879</td>\n",
              "      <td>5.7</td>\n",
              "    </tr>\n",
              "    <tr>\n",
              "      <th>7</th>\n",
              "      <td>1995-08-01</td>\n",
              "      <td>152.9</td>\n",
              "      <td>5.029784</td>\n",
              "      <td>0.025838</td>\n",
              "      <td>2.583781</td>\n",
              "      <td>5.7</td>\n",
              "    </tr>\n",
              "    <tr>\n",
              "      <th>8</th>\n",
              "      <td>1995-09-01</td>\n",
              "      <td>153.1</td>\n",
              "      <td>5.031091</td>\n",
              "      <td>0.025134</td>\n",
              "      <td>2.513360</td>\n",
              "      <td>5.6</td>\n",
              "    </tr>\n",
              "    <tr>\n",
              "      <th>9</th>\n",
              "      <td>1995-10-01</td>\n",
              "      <td>153.5</td>\n",
              "      <td>5.033701</td>\n",
              "      <td>0.027073</td>\n",
              "      <td>2.707329</td>\n",
              "      <td>5.5</td>\n",
              "    </tr>\n",
              "  </tbody>\n",
              "</table>\n",
              "</div>\n",
              "      <button class=\"colab-df-convert\" onclick=\"convertToInteractive('df-6be651cd-d97d-4653-a2fa-c18ec2363aa3')\"\n",
              "              title=\"Convert this dataframe to an interactive table.\"\n",
              "              style=\"display:none;\">\n",
              "        \n",
              "  <svg xmlns=\"http://www.w3.org/2000/svg\" height=\"24px\"viewBox=\"0 0 24 24\"\n",
              "       width=\"24px\">\n",
              "    <path d=\"M0 0h24v24H0V0z\" fill=\"none\"/>\n",
              "    <path d=\"M18.56 5.44l.94 2.06.94-2.06 2.06-.94-2.06-.94-.94-2.06-.94 2.06-2.06.94zm-11 1L8.5 8.5l.94-2.06 2.06-.94-2.06-.94L8.5 2.5l-.94 2.06-2.06.94zm10 10l.94 2.06.94-2.06 2.06-.94-2.06-.94-.94-2.06-.94 2.06-2.06.94z\"/><path d=\"M17.41 7.96l-1.37-1.37c-.4-.4-.92-.59-1.43-.59-.52 0-1.04.2-1.43.59L10.3 9.45l-7.72 7.72c-.78.78-.78 2.05 0 2.83L4 21.41c.39.39.9.59 1.41.59.51 0 1.02-.2 1.41-.59l7.78-7.78 2.81-2.81c.8-.78.8-2.07 0-2.86zM5.41 20L4 18.59l7.72-7.72 1.47 1.35L5.41 20z\"/>\n",
              "  </svg>\n",
              "      </button>\n",
              "      \n",
              "  <style>\n",
              "    .colab-df-container {\n",
              "      display:flex;\n",
              "      flex-wrap:wrap;\n",
              "      gap: 12px;\n",
              "    }\n",
              "\n",
              "    .colab-df-convert {\n",
              "      background-color: #E8F0FE;\n",
              "      border: none;\n",
              "      border-radius: 50%;\n",
              "      cursor: pointer;\n",
              "      display: none;\n",
              "      fill: #1967D2;\n",
              "      height: 32px;\n",
              "      padding: 0 0 0 0;\n",
              "      width: 32px;\n",
              "    }\n",
              "\n",
              "    .colab-df-convert:hover {\n",
              "      background-color: #E2EBFA;\n",
              "      box-shadow: 0px 1px 2px rgba(60, 64, 67, 0.3), 0px 1px 3px 1px rgba(60, 64, 67, 0.15);\n",
              "      fill: #174EA6;\n",
              "    }\n",
              "\n",
              "    [theme=dark] .colab-df-convert {\n",
              "      background-color: #3B4455;\n",
              "      fill: #D2E3FC;\n",
              "    }\n",
              "\n",
              "    [theme=dark] .colab-df-convert:hover {\n",
              "      background-color: #434B5C;\n",
              "      box-shadow: 0px 1px 3px 1px rgba(0, 0, 0, 0.15);\n",
              "      filter: drop-shadow(0px 1px 2px rgba(0, 0, 0, 0.3));\n",
              "      fill: #FFFFFF;\n",
              "    }\n",
              "  </style>\n",
              "\n",
              "      <script>\n",
              "        const buttonEl =\n",
              "          document.querySelector('#df-6be651cd-d97d-4653-a2fa-c18ec2363aa3 button.colab-df-convert');\n",
              "        buttonEl.style.display =\n",
              "          google.colab.kernel.accessAllowed ? 'block' : 'none';\n",
              "\n",
              "        async function convertToInteractive(key) {\n",
              "          const element = document.querySelector('#df-6be651cd-d97d-4653-a2fa-c18ec2363aa3');\n",
              "          const dataTable =\n",
              "            await google.colab.kernel.invokeFunction('convertToInteractive',\n",
              "                                                     [key], {});\n",
              "          if (!dataTable) return;\n",
              "\n",
              "          const docLinkHtml = 'Like what you see? Visit the ' +\n",
              "            '<a target=\"_blank\" href=https://colab.research.google.com/notebooks/data_table.ipynb>data table notebook</a>'\n",
              "            + ' to learn more about interactive tables.';\n",
              "          element.innerHTML = '';\n",
              "          dataTable['output_type'] = 'display_data';\n",
              "          await google.colab.output.renderOutput(dataTable, element);\n",
              "          const docLink = document.createElement('div');\n",
              "          docLink.innerHTML = docLinkHtml;\n",
              "          element.appendChild(docLink);\n",
              "        }\n",
              "      </script>\n",
              "    </div>\n",
              "  </div>\n",
              "  "
            ],
            "text/plain": [
              "         DATE  CPIAUCSL    logCPI  logCPIdiff  inflation_estimation  UNRATE\n",
              "0  1995-01-01     150.5  5.013963    0.028304              2.830378     5.6\n",
              "1  1995-02-01     150.9  5.016617    0.028228              2.822768     5.4\n",
              "2  1995-03-01     151.2  5.018603    0.027491              2.749084     5.4\n",
              "3  1995-04-01     151.8  5.022564    0.030772              3.077166     5.8\n",
              "4  1995-05-01     152.1  5.024538    0.030710              3.071002     5.6\n",
              "5  1995-06-01     152.4  5.026509    0.029972              2.997227     5.6\n",
              "6  1995-07-01     152.6  5.027820    0.027909              2.790879     5.7\n",
              "7  1995-08-01     152.9  5.029784    0.025838              2.583781     5.7\n",
              "8  1995-09-01     153.1  5.031091    0.025134              2.513360     5.6\n",
              "9  1995-10-01     153.5  5.033701    0.027073              2.707329     5.5"
            ]
          },
          "metadata": {},
          "execution_count": 19
        }
      ]
    },
    {
      "cell_type": "markdown",
      "source": [
        "Make scatter plot before running OLS models"
      ],
      "metadata": {
        "id": "CT-griHOquEO"
      }
    },
    {
      "cell_type": "code",
      "source": [
        "#create scatter plot, logCPIdiff on x and UNRATE on y\n",
        "plt.scatter(cpiunrate['inflation_estimation'], cpiunrate['UNRATE'], alpha=0.5, c='k')\n",
        "plt.xlabel('Log Difference of CPI (Inflation Estimation)')\n",
        "plt.ylabel('Unemployment Rate')\n",
        "plt.title('Scatter Unemployment Rate on Inflation')\n",
        "plt.show()"
      ],
      "metadata": {
        "colab": {
          "base_uri": "https://localhost:8080/",
          "height": 295
        },
        "id": "QKcQwuoWZST8",
        "outputId": "bd873118-9815-44f2-fb19-097a4b8fa2d1"
      },
      "execution_count": 20,
      "outputs": [
        {
          "output_type": "display_data",
          "data": {
            "image/png": "[encoded data removed]",
            "text/plain": [
              "<Figure size 432x288 with 1 Axes>"
            ]
          },
          "metadata": {
            "needs_background": "light"
          }
        }
      ]
    },
    {
      "cell_type": "markdown",
      "source": [
        "Run OLS model using Statsmodels"
      ],
      "metadata": {
        "id": "D1XDyXsZqycx"
      }
    },
    {
      "cell_type": "code",
      "source": [
        "#run OLS regression to compute alpha and beta\n",
        "X = cpiunrate['inflation_estimation']\n",
        "#add constant column to make sure we get an alpha estimate/std error\n",
        "X = sm.add_constant(X)\n",
        "Y = cpiunrate['UNRATE']\n",
        "philipsmodel = sm.OLS(Y, X)\n",
        "philipsresult = philipsmodel.fit()\n",
        "#print summary stats\n",
        "print(philipsresult.summary())\n",
        "\n",
        "#I'm sorry for the extra error message, I'm not sure how to get rid of this\n",
        "#print coefficients\n",
        "print('The coefficient estimate for alpha is:',round(philipsresult.params[0],4),', and the standard error estimate for alpha is: ',round(philipsresult.bse[0],4))\n",
        "print('The coefficient estimate for beta is:',round(philipsresult.params[1],4),', and the standard error estimate for beta is: ',round(philipsresult.bse[1],4))"
      ],
      "metadata": {
        "colab": {
          "base_uri": "https://localhost:8080/"
        },
        "id": "Ip-JWV4QZXbS",
        "outputId": "e198b901-f879-4995-d4a8-8613a64803b3"
      },
      "execution_count": 24,
      "outputs": [
        {
          "output_type": "stream",
          "name": "stdout",
          "text": [
            "                            OLS Regression Results                            \n",
            "==============================================================================\n",
            "Dep. Variable:                 UNRATE   R-squared:                       0.040\n",
            "Model:                            OLS   Adj. R-squared:                  0.032\n",
            "Method:                 Least Squares   F-statistic:                     5.402\n",
            "Date:                Tue, 15 Feb 2022   Prob (F-statistic):             0.0217\n",
            "Time:                        21:05:07   Log-Likelihood:                -130.70\n",
            "No. Observations:                 133   AIC:                             265.4\n",
            "Df Residuals:                     131   BIC:                             271.2\n",
            "Df Model:                           1                                         \n",
            "Covariance Type:            nonrobust                                         \n",
            "========================================================================================\n",
            "                           coef    std err          t      P>|t|      [0.025      0.975]\n",
            "----------------------------------------------------------------------------------------\n",
            "const                    5.5298      0.207     26.714      0.000       5.120       5.939\n",
            "inflation_estimation    -0.1840      0.079     -2.324      0.022      -0.341      -0.027\n",
            "==============================================================================\n",
            "Omnibus:                      124.218   Durbin-Watson:                   0.050\n",
            "Prob(Omnibus):                  0.000   Jarque-Bera (JB):               11.917\n",
            "Skew:                          -0.285   Prob(JB):                      0.00258\n",
            "Kurtosis:                       1.649   Cond. No.                         10.9\n",
            "==============================================================================\n",
            "\n",
            "Warnings:\n",
            "[1] Standard Errors assume that the covariance matrix of the errors is correctly specified.\n",
            "The coefficient estimate for alpha is: 5.5298 , and the standard error estimate for alpha is:  0.207\n",
            "The coefficient estimate for beta is: -0.184 , and the standard error estimate for beta is:  0.0791\n"
          ]
        },
        {
          "output_type": "stream",
          "name": "stderr",
          "text": [
            "/usr/local/lib/python3.7/dist-packages/statsmodels/tsa/tsatools.py:117: FutureWarning: In a future version of pandas all arguments of concat except for the argument 'objs' will be keyword-only\n",
            "  x = pd.concat(x[::order], 1)\n"
          ]
        }
      ]
    },
    {
      "cell_type": "markdown",
      "source": [
        "Bootstrap the model using 100 and 300 replications respectively"
      ],
      "metadata": {
        "id": "_yuxmD80rJXE"
      }
    },
    {
      "cell_type": "code",
      "source": [
        "#bootstrap model, for 100 and 300 replications\n",
        "\n",
        "#100 replications\n",
        "#set some parameters\n",
        "xforstack = cpiunrate['inflation_estimation']\n",
        "yforstack = cpiunrate['UNRATE']\n",
        "\n",
        "#set some datasets for for loop\n",
        "temp=np.transpose(np.stack((yforstack,xforstack,)))\n",
        "firstrun=pd.DataFrame(temp, columns=['yforstack','xforstack'])\n",
        "\n",
        "#set some empty arrays\n",
        "alpha100=[]\n",
        "beta100=[]\n",
        "K1=100\n",
        "#for loop to run bootstrap (100 replications)\n",
        "for i in range(K1):\n",
        "  boot1 = resample(firstrun, replace=True, n_samples=144)\n",
        "  reg1 = smf.ols('yforstack ~ xforstack', data=boot1).fit()\n",
        "  alpha100.append(reg1.params[0])\n",
        "  beta100.append(reg1.params[1])\n",
        "#report standard errors from bootstap (100 replications)\n",
        "alpha1 = stdev(alpha100)\n",
        "beta1 = stdev(beta100)\n",
        "print('Bootstrap standard errors from 100 replications are: ')\n",
        "print(round(alpha1,4))\n",
        "print(round(beta1,4))\n",
        "\n",
        "#set some empty arrays\n",
        "alpha300=[]\n",
        "beta300=[]\n",
        "K3=300\n",
        "#for loop to run bootstrap (300 replications)\n",
        "for i in range(K3):\n",
        "  boot3 = resample(firstrun, replace=True, n_samples=144)\n",
        "  reg3 = smf.ols('yforstack ~ xforstack', data=boot3).fit()\n",
        "  alpha300.append(reg3.params[0])\n",
        "  beta300.append(reg3.params[1])\n",
        "#report standard errors from bootstap (300 replications)\n",
        "alpha3 = stdev(alpha300)\n",
        "beta3 = stdev(beta300)\n",
        "print('Bootstrap standard errors from 300 replications are: ')\n",
        "print(round(alpha3,4))\n",
        "print(round(beta3,4))"
      ],
      "metadata": {
        "colab": {
          "base_uri": "https://localhost:8080/"
        },
        "id": "OUPUigRsee1L",
        "outputId": "125469a7-c047-4ca9-9d37-dab1be537af3"
      },
      "execution_count": 22,
      "outputs": [
        {
          "output_type": "stream",
          "name": "stdout",
          "text": [
            "Bootstrap standard errors from 100 replications are: \n",
            "0.1898\n",
            "0.0741\n",
            "Bootstrap standard errors from 300 replications are: \n",
            "0.1956\n",
            "0.0731\n"
          ]
        }
      ]
    },
    {
      "cell_type": "markdown",
      "source": [
        "Report the differences in standard errors for each model for alpha and beta"
      ],
      "metadata": {
        "id": "CM7zg_JbrN2E"
      }
    },
    {
      "cell_type": "code",
      "source": [
        "#compare standard error outputs from OLS, 100 replication, and 300 replication bootstrap models\n",
        "\n",
        "#OLS from bootstrap alphas\n",
        "olsfromboot1alpha = round(philipsresult.bse[0],4)-round(alpha1,4)\n",
        "olsfromboot3alpha = round(philipsresult.bse[0],4)-round(alpha3,4)\n",
        "boot1fromboot3alpha = round(alpha1,4) - round(alpha3,4)\n",
        "\n",
        "#OLS from bootstrap betas\n",
        "olsfromboot1beta = round(philipsresult.bse[1],4)-round(beta1,4)\n",
        "olsfromboot3beta = round(philipsresult.bse[1],4)-round(beta3,4)\n",
        "boot1fromboot3beta = round(beta1,4) - round(beta3,4)\n",
        "\n",
        "print('Alphas:')\n",
        "print('The difference between the OLS model alpha standard error and a bootstrap model with 100 replications is: ',round(olsfromboot1alpha,4))\n",
        "print('The difference between the OLS model alpha standard error and a bootstrap model with 300 replications is: ',round(olsfromboot3alpha,4))\n",
        "print('The difference between the bootstrap model with 100 replications alpha standard error and a bootstrap model with 300 replications is: ',round(boot1fromboot3alpha,4))\n",
        "print('Betas:')\n",
        "print('The difference between the OLS model beta standard error and a bootstrap model with 100 replications is: ',round(olsfromboot1beta,4))\n",
        "print('The difference between the OLS model beta standard error and a bootstrap model with 300 replications is: ',round(olsfromboot3beta,4))\n",
        "print('The difference between the bootstrap model with 100 replications beta standard error and a bootstrap model with 300 replications is: ',round(boot1fromboot3beta,4))"
      ],
      "metadata": {
        "colab": {
          "base_uri": "https://localhost:8080/"
        },
        "id": "GCY8nJ5koBUA",
        "outputId": "4ae28324-cb69-4374-991e-0f11929537c5"
      },
      "execution_count": 23,
      "outputs": [
        {
          "output_type": "stream",
          "name": "stdout",
          "text": [
            "Alphas:\n",
            "The difference between the OLS model alpha standard error and a bootstrap model with 100 replications is:  0.0172\n",
            "The difference between the OLS model alpha standard error and a bootstrap model with 300 replications is:  0.0114\n",
            "The difference between the bootstrap model with 100 replications alpha standard error and a bootstrap model with 300 replications is:  -0.0058\n",
            "Betas:\n",
            "The difference between the OLS model beta standard error and a bootstrap model with 100 replications is:  0.005\n",
            "The difference between the OLS model beta standard error and a bootstrap model with 300 replications is:  0.006\n",
            "The difference between the bootstrap model with 100 replications beta standard error and a bootstrap model with 300 replications is:  0.001\n"
          ]
        }
      ]
    }
  ]
}